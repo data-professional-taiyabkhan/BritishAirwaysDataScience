{
 "cells": [
  {
   "cell_type": "code",
   "execution_count": 1,
   "metadata": {},
   "outputs": [],
   "source": [
    "#Importing Neceassry Libraries\n",
    "\n",
    "import pandas as pd\n",
    "import requests\n",
    "import matplotlib.pyplot as plt\n",
    "import numpy as np\n",
    "from bs4 import BeautifulSoup"
   ]
  },
  {
   "cell_type": "code",
   "execution_count": 40,
   "metadata": {},
   "outputs": [],
   "source": [
    "review_content = []\n",
    "review_rating = []\n",
    "review_date = []\n",
    "review_country = []"
   ]
  },
  {
   "cell_type": "code",
   "execution_count": 41,
   "metadata": {},
   "outputs": [],
   "source": [
    "for i in range(1,45):\n",
    "    url = \"https://www.airlinequality.com/airline-reviews/british-airways/page/\"+str(i)+\"/?sortby=post_date%3ADesc&pagesize=100\"\n",
    "    #Getting the HTML content of the page\n",
    "    response = requests.get(url)\n",
    "    soup = BeautifulSoup(response.content, \"html.parser\")\n",
    "\n",
    "    #Extracting the review content\n",
    "    for item in soup.find_all('div', class_ = 'text_content'):\n",
    "        try:\n",
    "            review_content.append(item.text)\n",
    "        except:\n",
    "            print(\"No Review Found on Page \"+str(i))\n",
    "            review_content.append('No review')\n",
    "\n",
    "    #Extracting the review rating\n",
    "    for item in soup.find_all('div', class_ = 'rating-10'):\n",
    "        try:\n",
    "            review_rating.append(item.text.strip()[0])\n",
    "        except:\n",
    "            print(\"No Rating Found on Page \"+str(i))\n",
    "            review_rating.append('No rating')\n",
    "    \n",
    "    #Extracting the review date\n",
    "    for item in soup.find_all('time'):\n",
    "        try:\n",
    "            review_date.append(item.text)\n",
    "        except:\n",
    "            print(\"No Date Found on Page \"+str(i))\n",
    "            review_date.append('No date')\n",
    "    \n",
    "    #Extacting the Country of the reviewer\n",
    "\n",
    "    for item in soup.find_all('h3'):\n",
    "        try:\n",
    "            review_country.append(item.span.next_sibling.text.strip(\"()\")[1:-1])\n",
    "        except:\n",
    "            print(\"No Country Found on Page \"+str(i))\n",
    "            review_country.append('No Country')"
   ]
  },
  {
   "cell_type": "code",
   "execution_count": 42,
   "metadata": {},
   "outputs": [],
   "source": [
    "review_rating = review_rating[:len(review_content)]"
   ]
  },
  {
   "cell_type": "code",
   "execution_count": 43,
   "metadata": {},
   "outputs": [
    {
     "name": "stdout",
     "output_type": "stream",
     "text": [
      "3913\n",
      "3913\n",
      "3913\n",
      "3913\n"
     ]
    }
   ],
   "source": [
    "print(len(review_content))\n",
    "print(len(review_rating))\n",
    "print(len(review_date))\n",
    "print(len(review_country))"
   ]
  },
  {
   "cell_type": "code",
   "execution_count": 44,
   "metadata": {},
   "outputs": [],
   "source": [
    "#Genarating a DataFrame\n",
    "\n",
    "data = pd.DataFrame({'Review Content':review_content, 'Review Rating':review_rating, 'Review Date':review_date, 'Review Country':review_country})"
   ]
  },
  {
   "cell_type": "code",
   "execution_count": 45,
   "metadata": {},
   "outputs": [
    {
     "data": {
      "text/html": [
       "<div>\n",
       "<style scoped>\n",
       "    .dataframe tbody tr th:only-of-type {\n",
       "        vertical-align: middle;\n",
       "    }\n",
       "\n",
       "    .dataframe tbody tr th {\n",
       "        vertical-align: top;\n",
       "    }\n",
       "\n",
       "    .dataframe thead th {\n",
       "        text-align: right;\n",
       "    }\n",
       "</style>\n",
       "<table border=\"1\" class=\"dataframe\">\n",
       "  <thead>\n",
       "    <tr style=\"text-align: right;\">\n",
       "      <th></th>\n",
       "      <th>Review Content</th>\n",
       "      <th>Review Rating</th>\n",
       "      <th>Review Date</th>\n",
       "      <th>Review Country</th>\n",
       "    </tr>\n",
       "  </thead>\n",
       "  <tbody>\n",
       "    <tr>\n",
       "      <th>0</th>\n",
       "      <td>✅ Trip Verified | Terrible overall, medium ser...</td>\n",
       "      <td>5</td>\n",
       "      <td>7th February 2025</td>\n",
       "      <td>(Switzerland)</td>\n",
       "    </tr>\n",
       "    <tr>\n",
       "      <th>1</th>\n",
       "      <td>✅ Trip Verified |   London Heathrow to Male In...</td>\n",
       "      <td>1</td>\n",
       "      <td>1st February 2025</td>\n",
       "      <td>(United Kingdom)</td>\n",
       "    </tr>\n",
       "    <tr>\n",
       "      <th>2</th>\n",
       "      <td>Not Verified |  Very good flight following an ...</td>\n",
       "      <td>9</td>\n",
       "      <td>20th January 2025</td>\n",
       "      <td>(United Kingdom)</td>\n",
       "    </tr>\n",
       "    <tr>\n",
       "      <th>3</th>\n",
       "      <td>Not Verified |  An hour's delay due to late ar...</td>\n",
       "      <td>9</td>\n",
       "      <td>19th January 2025</td>\n",
       "      <td>(United Kingdom)</td>\n",
       "    </tr>\n",
       "    <tr>\n",
       "      <th>4</th>\n",
       "      <td>✅ Trip Verified |   I booked through BA becaus...</td>\n",
       "      <td>7</td>\n",
       "      <td>15th January 2025</td>\n",
       "      <td>(United Kingdom)</td>\n",
       "    </tr>\n",
       "    <tr>\n",
       "      <th>...</th>\n",
       "      <td>...</td>\n",
       "      <td>...</td>\n",
       "      <td>...</td>\n",
       "      <td>...</td>\n",
       "    </tr>\n",
       "    <tr>\n",
       "      <th>3908</th>\n",
       "      <td>YYZ to LHR - July 2012 - I flew overnight in p...</td>\n",
       "      <td>3</td>\n",
       "      <td>29th August 2012</td>\n",
       "      <td>(Canada)</td>\n",
       "    </tr>\n",
       "    <tr>\n",
       "      <th>3909</th>\n",
       "      <td>LHR to HAM. Purser addresses all club passenge...</td>\n",
       "      <td>9</td>\n",
       "      <td>28th August 2012</td>\n",
       "      <td>(United Kingdom)</td>\n",
       "    </tr>\n",
       "    <tr>\n",
       "      <th>3910</th>\n",
       "      <td>My son who had worked for British Airways urge...</td>\n",
       "      <td>8</td>\n",
       "      <td>12th October 2011</td>\n",
       "      <td>(United Kingdom)</td>\n",
       "    </tr>\n",
       "    <tr>\n",
       "      <th>3911</th>\n",
       "      <td>London City-New York JFK via Shannon on A318 b...</td>\n",
       "      <td>2</td>\n",
       "      <td>11th October 2011</td>\n",
       "      <td>(United States)</td>\n",
       "    </tr>\n",
       "    <tr>\n",
       "      <th>3912</th>\n",
       "      <td>SIN-LHR BA12 B747-436 First Class. Old aircraf...</td>\n",
       "      <td>7</td>\n",
       "      <td>9th October 2011</td>\n",
       "      <td>(United Kingdom)</td>\n",
       "    </tr>\n",
       "  </tbody>\n",
       "</table>\n",
       "<p>3913 rows × 4 columns</p>\n",
       "</div>"
      ],
      "text/plain": [
       "                                         Review Content Review Rating  \\\n",
       "0     ✅ Trip Verified | Terrible overall, medium ser...             5   \n",
       "1     ✅ Trip Verified |   London Heathrow to Male In...             1   \n",
       "2     Not Verified |  Very good flight following an ...             9   \n",
       "3     Not Verified |  An hour's delay due to late ar...             9   \n",
       "4     ✅ Trip Verified |   I booked through BA becaus...             7   \n",
       "...                                                 ...           ...   \n",
       "3908  YYZ to LHR - July 2012 - I flew overnight in p...             3   \n",
       "3909  LHR to HAM. Purser addresses all club passenge...             9   \n",
       "3910  My son who had worked for British Airways urge...             8   \n",
       "3911  London City-New York JFK via Shannon on A318 b...             2   \n",
       "3912  SIN-LHR BA12 B747-436 First Class. Old aircraf...             7   \n",
       "\n",
       "            Review Date    Review Country  \n",
       "0     7th February 2025     (Switzerland)  \n",
       "1     1st February 2025  (United Kingdom)  \n",
       "2     20th January 2025  (United Kingdom)  \n",
       "3     19th January 2025  (United Kingdom)  \n",
       "4     15th January 2025  (United Kingdom)  \n",
       "...                 ...               ...  \n",
       "3908   29th August 2012          (Canada)  \n",
       "3909   28th August 2012  (United Kingdom)  \n",
       "3910  12th October 2011  (United Kingdom)  \n",
       "3911  11th October 2011   (United States)  \n",
       "3912   9th October 2011  (United Kingdom)  \n",
       "\n",
       "[3913 rows x 4 columns]"
      ]
     },
     "execution_count": 45,
     "metadata": {},
     "output_type": "execute_result"
    }
   ],
   "source": [
    "data"
   ]
  },
  {
   "cell_type": "code",
   "execution_count": 48,
   "metadata": {},
   "outputs": [
    {
     "data": {
      "text/plain": [
       "(3913, 4)"
      ]
     },
     "execution_count": 48,
     "metadata": {},
     "output_type": "execute_result"
    }
   ],
   "source": [
    "data.shape"
   ]
  },
  {
   "cell_type": "code",
   "execution_count": 49,
   "metadata": {},
   "outputs": [],
   "source": [
    "data.to_csv('british_airways_reviews.csv', index = False)"
   ]
  }
 ],
 "metadata": {
  "kernelspec": {
   "display_name": "Python 3",
   "language": "python",
   "name": "python3"
  },
  "language_info": {
   "codemirror_mode": {
    "name": "ipython",
    "version": 3
   },
   "file_extension": ".py",
   "mimetype": "text/x-python",
   "name": "python",
   "nbconvert_exporter": "python",
   "pygments_lexer": "ipython3",
   "version": "3.11.1"
  }
 },
 "nbformat": 4,
 "nbformat_minor": 2
}
